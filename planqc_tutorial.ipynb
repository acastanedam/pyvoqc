{
 "cells": [
  {
   "cell_type": "markdown",
   "metadata": {},
   "source": [
    "# PyVOQC Tutorial (PLanQC 2021)\n",
    "\n",
    "This tutorial introduces PyVOQC, the Python bindings for the VOQC optimizer (available at [inQWIRE/pyvoqc](https://github.com/inQWIRE/pyvoqc)). We first show how to use PyVOQC as a pass in Qiskit (our recommended method), and then show how to call PyVOQC functions directly.\n",
    "\n",
    "## Preliminaries\n",
    "\n",
    "To run this tutorial: \n",
    "1. Install our OCaml package with `opam install voqc` (requires opam)\n",
    "2. Run `./install.sh` in the pyvoqc directory\n",
    "\n",
    "For more details and troubleshooting, see the [README](https://github.com/inQWIRE/pyvoqc/REAMDE.md) in the pyvoqc repository."
   ]
  },
  {
   "cell_type": "markdown",
   "metadata": {},
   "source": [
    "## Running PyVOQC as a Qiskit Pass\n",
    "\n",
    "Using our `voqc_pass` wrapper, VOQC can be called just like any other optimization pass in [IBM's Qiskit framework](https://qiskit.org/documentation/getting_started.html). This allows us to take advantage of Qiskit's utilities for quantum programming, such as the ability to build and print circuits.\n",
    "\n",
    "To use VOQC, simply append `QiskitVOQC([opt list])` to a Qiskit `Pass Manager` where `opt list` is an optional argument specifying one or more of the transformations in VOQC. `QiskitVOQC()` with no arguments will run all available optimizations."
   ]
  },
  {
   "cell_type": "code",
   "execution_count": 1,
   "metadata": {},
   "outputs": [
    {
     "name": "stdout",
     "output_type": "stream",
     "text": [
      "Before Optimization:\n",
      "     ┌───┐┌───┐    ┌───┐ \n",
      "q_0: ┤ X ├┤ T ├─■──┤ T ├─\n",
      "     ├───┤└───┘ │ ┌┴───┴┐\n",
      "q_1: ┤ T ├──────■─┤ TDG ├\n",
      "     └───┘        └─────┘\n"
     ]
    }
   ],
   "source": [
    "from qiskit import QuantumCircuit\n",
    "from pyvoqc.qiskit.voqc_pass import QiskitVOQC\n",
    "from qiskit.transpiler import PassManager\n",
    "\n",
    "# create a circuit using Qiskit's interface\n",
    "circ = QuantumCircuit(2)\n",
    "circ.x(0)\n",
    "circ.t(0)\n",
    "circ.t(1)\n",
    "circ.cz(0, 1)\n",
    "circ.t(0)\n",
    "circ.tdg(1)\n",
    "print(\"Before Optimization:\")\n",
    "print(circ)"
   ]
  },
  {
   "cell_type": "code",
   "execution_count": 3,
   "metadata": {},
   "outputs": [
    {
     "name": "stdout",
     "output_type": "stream",
     "text": [
      "After 'decompose_to_cnot':\n",
      "     ┌───┐┌───┐     ┌───┐       \n",
      "q_0: ┤ X ├┤ T ├──■──┤ T ├───────\n",
      "     ├───┤├───┤┌─┴─┐├───┤┌─────┐\n",
      "q_1: ┤ T ├┤ H ├┤ X ├┤ H ├┤ TDG ├\n",
      "     └───┘└───┘└───┘└───┘└─────┘\n"
     ]
    }
   ],
   "source": [
    "# create a Qiskit PassManager\n",
    "pm = PassManager()\n",
    "\n",
    "# decompose CZ gate\n",
    "pm.append(QiskitVOQC([\"decompose_to_cnot\"]))\n",
    "new_circ = pm.run(circ)\n",
    "print(\"After 'decompose_to_cnot':\")\n",
    "print(new_circ)"
   ]
  },
  {
   "cell_type": "code",
   "execution_count": 4,
   "metadata": {},
   "outputs": [
    {
     "name": "stdout",
     "output_type": "stream",
     "text": [
      "After 'optimize_nam':\n",
      "               ┌─────┐┌───┐\n",
      "q_0: ───────■──┤ SDG ├┤ X ├\n",
      "     ┌───┐┌─┴─┐└┬───┬┘├───┤\n",
      "q_1: ┤ H ├┤ X ├─┤ H ├─┤ Z ├\n",
      "     └───┘└───┘ └───┘ └───┘\n"
     ]
    }
   ],
   "source": [
    "# run optimizations from Nam et al.\n",
    "pm.append(QiskitVOQC([\"optimize_nam\"]))\n",
    "new_circ = pm.run(circ)\n",
    "print(\"After 'optimize_nam':\")\n",
    "print(new_circ)"
   ]
  },
  {
   "cell_type": "code",
   "execution_count": 5,
   "metadata": {},
   "outputs": [
    {
     "name": "stdout",
     "output_type": "stream",
     "text": [
      "After 'optimize_ibm':\n",
      "                     ┌─────────────┐\n",
      "q_0: ─────────────■──┤ U3(π,0,π/2) ├\n",
      "     ┌─────────┐┌─┴─┐└─┬─────────┬─┘\n",
      "q_1: ┤ U2(0,π) ├┤ X ├──┤ U2(π,π) ├──\n",
      "     └─────────┘└───┘  └─────────┘  \n"
     ]
    }
   ],
   "source": [
    "# run IBM gate merging\n",
    "pm.append(QiskitVOQC([\"optimize_ibm\"]))\n",
    "new_circ = pm.run(circ)\n",
    "print(\"After 'optimize_ibm':\")\n",
    "print(new_circ)"
   ]
  },
  {
   "cell_type": "markdown",
   "metadata": {},
   "source": [
    "## Running PyVOQC Directly\n",
    "\n",
    "You can also call PyVOQC functions directly through the `VOQC` class in `pyvoqc.voqc`. However, we support limited operations over circuits (notably, we have do not allow printing circuits). But if all you need is QASM file input/output and gate counting, then this may be sufficient."
   ]
  },
  {
   "cell_type": "code",
   "execution_count": 6,
   "metadata": {},
   "outputs": [
    {
     "name": "stdout",
     "output_type": "stream",
     "text": [
      "Input circuit:\n",
      "Circuit uses 5 qubits and 3 gates.\n",
      "{'CCX': 3}\n",
      "No current layout.\n"
     ]
    }
   ],
   "source": [
    "from pyvoqc.voqc import VOQC\n",
    "\n",
    "# load circuit\n",
    "c = VOQC(\"tutorial-files/tof_3_example.qasm\")\n",
    "print(\"Input circuit:\")\n",
    "c.print_info()"
   ]
  },
  {
   "cell_type": "code",
   "execution_count": 7,
   "metadata": {},
   "outputs": [
    {
     "name": "stdout",
     "output_type": "stream",
     "text": [
      "After decomposing CCX gates:\n",
      "Circuit uses 5 qubits and 45 gates.\n",
      "{'H': 6, 'T': 12, 'Tdg': 9, 'CX': 18}\n",
      "No current layout.\n"
     ]
    }
   ],
   "source": [
    "# decompose CCX gates into single-qubit and CX (= cnot) gates\n",
    "c.decompose_to_cnot()\n",
    "print(\"After decomposing CCX gates:\")\n",
    "c.print_info()"
   ]
  },
  {
   "cell_type": "code",
   "execution_count": 8,
   "metadata": {},
   "outputs": [
    {
     "name": "stdout",
     "output_type": "stream",
     "text": [
      "After optimization:\n",
      "Circuit uses 5 qubits and 40 gates.\n",
      "{'H': 6, 'S': 2, 'T': 8, 'Sdg': 1, 'Tdg': 7, 'CX': 16}\n",
      "No current layout.\n"
     ]
    }
   ],
   "source": [
    "# run our most general optimization (see Sec. 4 of our POPL 2021 paper)\n",
    "c.optimize_nam().replace_rzq()\n",
    "print(\"After optimization:\")\n",
    "c.print_info()"
   ]
  },
  {
   "cell_type": "code",
   "execution_count": 9,
   "metadata": {},
   "outputs": [
    {
     "name": "stdout",
     "output_type": "stream",
     "text": [
      "After mapping:\n",
      "Circuit uses 5 qubits and 159 gates.\n",
      "{'H': 98, 'S': 2, 'T': 8, 'Sdg': 1, 'Tdg': 7, 'CX': 43}\n",
      "Current layout is [2,1,0,3,4]\n"
     ]
    }
   ],
   "source": [
    "# map the circuit to the Tenerife architecture with initial layout [0,1,2,3,4]\n",
    "c.make_tenerife()\n",
    "c.list_to_layout([0,1,2,3,4])\n",
    "c.simple_map()\n",
    "print(\"After mapping:\")\n",
    "c.print_info() # adds a bunch of CX and H gates"
   ]
  },
  {
   "cell_type": "code",
   "execution_count": 10,
   "metadata": {},
   "outputs": [
    {
     "name": "stdout",
     "output_type": "stream",
     "text": [
      "\n",
      "After optimization (round 2):\n",
      "Circuit uses 5 qubits and 113 gates.\n",
      "{'U1': 2, 'U2': 56, 'U3': 12, 'CX': 43}\n",
      "Current layout is [2,1,0,3,4]\n"
     ]
    }
   ],
   "source": [
    "# try optimizing again to remove introduced gates\n",
    "c.cancel_single_qubit_gates().optimize_ibm()\n",
    "print(\"\\nAfter optimization (round 2):\")\n",
    "c.print_info()"
   ]
  },
  {
   "cell_type": "code",
   "execution_count": null,
   "metadata": {},
   "outputs": [],
   "source": []
  }
 ],
 "metadata": {
  "kernelspec": {
   "display_name": "Python 3",
   "language": "python",
   "name": "python3"
  },
  "language_info": {
   "codemirror_mode": {
    "name": "ipython",
    "version": 3
   },
   "file_extension": ".py",
   "mimetype": "text/x-python",
   "name": "python",
   "nbconvert_exporter": "python",
   "pygments_lexer": "ipython3",
   "version": "3.9.1"
  }
 },
 "nbformat": 4,
 "nbformat_minor": 4
}
