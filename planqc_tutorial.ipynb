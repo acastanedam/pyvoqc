{
 "cells": [
  {
   "cell_type": "markdown",
   "metadata": {},
   "source": [
    "# VOQC Tutorial (PLanQC 2020)\n",
    "\n",
    "We provide Python bindings for VOQC in [inQWIRE/pyvoqc](https://github.com/inQWIRE/pyvoqc). Providing Python bindings makes it easier to perform evaluations and easier to integrate our tool into existing toolchains.\n",
    "\n",
    "## Preliminaries\n",
    "\n",
    "To run this tutorial: \n",
    "1. Install our OCaml package with `opam install voqc` (requires opam)\n",
    "2. Run `./install.sh` in the pyvoqc directory\n",
    "\n",
    "## Using PyVOQC Directly"
   ]
  },
  {
   "cell_type": "code",
   "execution_count": 4,
   "metadata": {},
   "outputs": [
    {
     "name": "stdout",
     "output_type": "stream",
     "text": [
      "Input file:\n",
      "Circuit uses 5 qubits and 3 gates.\n",
      "{'CCX': 3}\n",
      "\n",
      "After decomposing CCX gates:\n",
      "Circuit uses 5 qubits and 45 gates.\n",
      "{'H': 6, 'T': 12, 'Tdg': 9, 'CX': 18}\n",
      "\n",
      "After optimization:\n",
      "Circuit uses 5 qubits and 40 gates.\n",
      "{'H': 6, 'Rzq': 18, 'CX': 16}\n",
      "\n",
      "After removing Rzq gates:\n",
      "Circuit uses 5 qubits and 40 gates.\n",
      "{'H': 6, 'S': 2, 'T': 8, 'Sdg': 1, 'Tdg': 7, 'CX': 16}\n",
      "\n",
      "After mapping:\n",
      "Circuit uses 5 qubits and 159 gates.\n",
      "{'H': 98, 'S': 2, 'T': 8, 'Sdg': 1, 'Tdg': 7, 'CX': 43}\n",
      "Current layout is [2,1,0,3,4]\n",
      "\n",
      "After optimization (round 2):\n",
      "Circuit uses 5 qubits and 57 gates.\n",
      "{'H': 6, 'Rzq': 18, 'CX': 33}\n",
      "Current layout is [2,1,0,3,4]\n"
     ]
    }
   ],
   "source": [
    "from pyvoqc.voqc import VOQC\n",
    "\n",
    "# load circuit\n",
    "c = VOQC(\"tutorial-files/tof_3_example.qasm\")\n",
    "print(\"Input file:\")\n",
    "c.print_info()\n",
    "\n",
    "# decompose CCX gates into single-qubit and CX (= cnot) gates\n",
    "c.decompose_to_cnot()\n",
    "print(\"\\nAfter decomposing CCX gates:\")\n",
    "c.print_info()\n",
    "\n",
    "# run our most general optimization (see Sec. 4 of our POPL 2021 paper)\n",
    "c.optimize_nam()\n",
    "print(\"\\nAfter optimization:\")\n",
    "c.print_info()\n",
    "\n",
    "# Rzq is a non-standard gate; replace it with Rz for compatability\n",
    "c.replace_rzq()\n",
    "print(\"\\nAfter removing Rzq gates:\")\n",
    "c.print_info()\n",
    "\n",
    "# map the circuit to the Tenerife architecture with initial layout [0,1,2,3,4]\n",
    "c.make_tenerife()\n",
    "c.list_to_layout([0,1,2,3,4])\n",
    "c.simple_map()\n",
    "print(\"\\nAfter mapping:\")\n",
    "c.print_info() # adds a bunch of CX and H gates!\n",
    "\n",
    "# try optimizing again to remove introduced gates\n",
    "c.optimize_nam()\n",
    "print(\"\\nAfter optimization (round 2):\")\n",
    "c.print_info()\n",
    "\n",
    "# write the mapped and optimized circuit\n",
    "c.write(\"out.qasm\")"
   ]
  },
  {
   "cell_type": "markdown",
   "metadata": {},
   "source": [
    "## Running VOQC as a Qiskit Pass\n",
    "\n",
    "Using our \"voqc_pass\" wrapper, VOQC can be called just like any other optimization pass in [IBM's Qiskit framework](https://qiskit.org/documentation/getting_started.html). This allows us to take advantage of Qiskit's utilities for quantum programming, such as the ability to build and print circuits.\n",
    "\n",
    "To use VOQC, simply append `QiskitVOQC([opt list])` to a Qiskit `Pass Manager` where `opt list` is an optional argument specifying one or more of the transformations in VOQC. `QiskitVOQC()` with no arguments will run all optimizations available."
   ]
  },
  {
   "cell_type": "code",
   "execution_count": 11,
   "metadata": {},
   "outputs": [
    {
     "name": "stdout",
     "output_type": "stream",
     "text": [
      "Before Optimization:\n",
      "     ┌───┐┌───┐    ┌───┐ \n",
      "q_0: ┤ X ├┤ T ├─■──┤ T ├─\n",
      "     ├───┤└───┘ │ ┌┴───┴┐\n",
      "q_1: ┤ T ├──────■─┤ TDG ├\n",
      "     └───┘        └─────┘\n",
      "\n",
      "\n",
      "After 'decompose_to_cnot':\n",
      "     ┌───┐┌───┐     ┌───┐       \n",
      "q_0: ┤ X ├┤ T ├──■──┤ T ├───────\n",
      "     ├───┤├───┤┌─┴─┐├───┤┌─────┐\n",
      "q_1: ┤ T ├┤ H ├┤ X ├┤ H ├┤ TDG ├\n",
      "     └───┘└───┘└───┘└───┘└─────┘\n",
      "\n",
      "\n",
      "After 'optimize_nam':\n",
      "               ┌─────┐┌───┐\n",
      "q_0: ───────■──┤ SDG ├┤ X ├\n",
      "     ┌───┐┌─┴─┐└┬───┬┘├───┤\n",
      "q_1: ┤ H ├┤ X ├─┤ H ├─┤ Z ├\n",
      "     └───┘└───┘ └───┘ └───┘\n",
      "\n",
      "\n",
      "After 'optimize_ibm':\n",
      "                      ┌───────────────┐\n",
      "q_0: ──────────────■──┤ U3(pi,0,pi/2) ├\n",
      "     ┌──────────┐┌─┴─┐└─┬───────────┬─┘\n",
      "q_1: ┤ U2(0,pi) ├┤ X ├──┤ U2(pi,pi) ├──\n",
      "     └──────────┘└───┘  └───────────┘  \n"
     ]
    }
   ],
   "source": [
    "from qiskit import QuantumCircuit\n",
    "from pyvoqc.qiskit.voqc_pass import QiskitVOQC\n",
    "from qiskit.transpiler import PassManager\n",
    "\n",
    "# create the circuit above\n",
    "circ = QuantumCircuit(2)\n",
    "circ.x(0)\n",
    "circ.t(0)\n",
    "circ.t(1)\n",
    "circ.cz(0, 1)\n",
    "circ.t(0)\n",
    "circ.tdg(1)\n",
    "print(\"Before Optimization:\")\n",
    "print(circ)\n",
    "\n",
    "# create a Qiskit PassManager\n",
    "pm = PassManager()\n",
    "\n",
    "# decompose CZ gate\n",
    "pm.append(QiskitVOQC([\"decompose_to_cnot\"]))\n",
    "new_circ = pm.run(circ)\n",
    "print(\"\\n\\nAfter 'decompose_to_cnot':\")\n",
    "print(new_circ)\n",
    "\n",
    "# run optimizations from Nam et al.\n",
    "pm.append(QiskitVOQC([\"optimize_nam\", \"replace_rzq\"]))\n",
    "new_circ = pm.run(circ)\n",
    "print(\"\\n\\nAfter 'optimize_nam':\")\n",
    "print(new_circ)\n",
    "\n",
    "# run IBM gate merging\n",
    "pm.append(QiskitVOQC([\"optimize_ibm\"]))\n",
    "new_circ = pm.run(circ)\n",
    "print(\"\\n\\nAfter 'optimize_ibm':\")\n",
    "print(new_circ)\n"
   ]
  }
 ],
 "metadata": {
  "kernelspec": {
   "display_name": "Python 3",
   "language": "python",
   "name": "python3"
  },
  "language_info": {
   "codemirror_mode": {
    "name": "ipython",
    "version": 3
   },
   "file_extension": ".py",
   "mimetype": "text/x-python",
   "name": "python",
   "nbconvert_exporter": "python",
   "pygments_lexer": "ipython3",
   "version": "3.7.6"
  }
 },
 "nbformat": 4,
 "nbformat_minor": 4
}
