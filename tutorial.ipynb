{
 "cells": [
  {
   "cell_type": "markdown",
   "metadata": {},
   "source": [
    "# VOQC: A Verifed Optimizer for Quantum Circuits <img src=\"tutorial-files/umd.jpeg\" width=\"100\" align=\"right\">\n",
    "\n",
    "Welcome to the tutorial for VOQC! \n",
    "\n",
    "VOQC is a **verified optimizer for quantum circuits**, implemented and *formally verified* in the [Coq proof assistant](https://coq.inria.fr/). All VOQC optimizations are *guaranteed* to preserve the semantics of the original circuit, meaning that any optimized circuit produced by VOQC has the same behavior as the input circuit. VOQC was presented as a [distinguished paper at POPL 2021](https://arxiv.org/abs/1912.02250). All of our code is available freely online.\n",
    "* The Coq definitions and proofs are available at [github.com/inQWIRE/SQIR](https://github.com/inQWIRE/SQIR).\n",
    "* The OCaml library is available at [github.com/inQWIRE/mlvoqc](https://github.com/inQWIRE/mlvoqc) and can be installed with `opam install voqc`. \n",
    "* The Python bindings and tutorial are available at [github.com/inQWIRE/pyvoqc](https://github.com/inQWIRE/pyvoqc).\n",
    "\n",
    "To run VOQC in Python, we (1) extract the verified Coq code to OCaml, (2) compile the extracted OCaml code to a library, (3) wrap the OCaml library in C, and (4) use Python's ctypes to make calls into the C library. This tutorial introduces the transformations available in VOQC through our Python interface. For convenience, we have wrapped VOQC inside a pass manager for IBM's [IBM's Qiskit framework](https://qiskit.org/documentation/getting_started.html), allowing us to take advantage of Qiskit's utilities for quantum programming. In this tutorial, we'll use Qiskit for building and printing circuits.\n",
    "\n",
    "## Outline\n",
    "\n",
    "* Setup\n",
    "* Example\n",
    "* Optimization API\n",
    "\n",
    "## Setup\n",
    "\n",
    "Follow the installaton instructions in the pyvoqc directory. (If you already have opam installed, this should be as simple as running `opam install voqc` and `./install.sh`.)\n",
    "\n",
    "For more details and troubleshooting, see the [README](https://github.com/inQWIRE/pyvoqc/REAMDE.md) in the pyvoqc repository.\n",
    "\n",
    "To begin the tutorial, import modules below from Qiskit and VOQC. "
   ]
  },
  {
   "cell_type": "code",
   "execution_count": 1,
   "metadata": {},
   "outputs": [],
   "source": [
    "# Click on this cell and press Ctrl+Enter or run it with the \"Run\" button\n",
    "from qiskit import QuantumCircuit\n",
    "from qiskit.qasm import pi\n",
    "from qiskit.test.mock import FakeTenerife\n",
    "from qiskit.transpiler import CouplingMap\n",
    "from pyvoqc.qiskit.voqc_pass import voqc_pass_manager"
   ]
  },
  {
   "cell_type": "markdown",
   "metadata": {},
   "source": [
    "## Example\n",
    "\n",
    "`voqc_pass_manager` constructs a Qiskit pass manager that performs VOQC optimization and Qiskit circuit mapping, wrapped in VOQC's verified translation validation. It takes the following (optional) inputs:\n",
    "* `opts`: list of VOQC optimizations to apply (see the list of optimizations below)\n",
    "* `layout_method`: Qiskit method to use for layout (trivial, dense, noise_adaptive, or sabre)\n",
    "* `routing_method`: Qiskit method to use for routing (basic, stochastic, lookahead, or sabre)\n",
    "* `backend_properties`, `coupling_map`, `seed_transpiler`: options for Qiskit layout/routing, passed directly to Qiskit's functions\n",
    "\n",
    "In the example here, we read in a quantum circuit from the file \"tof_3_example.qasm\" and then run it through our VOQC Qiskit pass."
   ]
  },
  {
   "cell_type": "code",
   "execution_count": 3,
   "metadata": {},
   "outputs": [
    {
     "name": "stdout",
     "output_type": "stream",
     "text": [
      "Initial circui:\n",
      "                    \n",
      "q_0: ──■─────────■──\n",
      "       │         │  \n",
      "q_1: ──■─────────■──\n",
      "       │         │  \n",
      "q_2: ──┼────■────┼──\n",
      "       │  ┌─┴─┐  │  \n",
      "q_3: ──┼──┤ X ├──┼──\n",
      "     ┌─┴─┐└─┬─┘┌─┴─┐\n",
      "q_4: ┤ X ├──■──┤ X ├\n",
      "     └───┘     └───┘\n",
      "\n",
      "Final circuit:\n",
      "OrderedDict([('h', 28), ('cx', 18), ('tdg', 9), ('t', 8), ('s', 2)])\n"
     ]
    }
   ],
   "source": [
    "# Read circuit from file\n",
    "circ = QuantumCircuit.from_qasm_file(\"tutorial-files/tof_3_example.qasm\")\n",
    "print(\"Initial circui:\")\n",
    "print(circ)\n",
    "\n",
    "# Create a VOQC pass manager that uses Qiskit's SABRE mapping to map to the \n",
    "# Tenerife architecture, followed by VOQC's \"optimize\" function\n",
    "backend = FakeTenerife()\n",
    "coupling_map = CouplingMap(couplinglist=backend.configuration().coupling_map)\n",
    "vpm = voqc_pass_manager(post_opts=[\"optimize\"], layout_method=\"sabre\", routing_method=\"sabre\", coupling_map=coupling_map)\n",
    "\n",
    "# Run the pass manager\n",
    "new_circ = vpm.run(circ)\n",
    "print(\"\\nFinal circuit:\")\n",
    "print(new_circ.count_ops()) # showing gate counts instead of the full circuit for brevity"
   ]
  },
  {
   "cell_type": "markdown",
   "metadata": {},
   "source": [
    "## Optimization API\n",
    "\n",
    "VOQC provide the following optimizations,: *not propagation*, *single-qubit gate cancellation*, *two-qubit gate cancellation*, *rotation merging*, *hadamard reduction*, and *single-qubit gate merging*.\n",
    "\n",
    "**TODO**: list default ordering of optimizations\n",
    "\n",
    "We provide a brief example of each optimization below. For more details see Section 4 of [our paper](https://arxiv.org/abs/1912.02250)."
   ]
  },
  {
   "cell_type": "markdown",
   "metadata": {},
   "source": [
    "### Not Propagation\n",
    "\n",
    "*Not propagation* commutes X (logical NOT) gates rightward through the circuit, cancelling them when possible. In the example below, the leftmost X gate propagates through the CNOT gate to become two X gates. The upper X gate then propagates through the H gate to become a Z, and the two lower X gates cancel."
   ]
  },
  {
   "cell_type": "code",
   "execution_count": 4,
   "metadata": {},
   "outputs": [
    {
     "name": "stdout",
     "output_type": "stream",
     "text": [
      "Before Optimization:\n",
      "     ┌───┐     ┌───┐\n",
      "q_0: ┤ X ├──■──┤ H ├\n",
      "     └───┘┌─┴─┐├───┤\n",
      "q_1: ─────┤ X ├┤ X ├\n",
      "          └───┘└───┘\n",
      "\n",
      "After Optimization:\n",
      "          ┌───┐┌───┐\n",
      "q_0: ──■──┤ H ├┤ Z ├\n",
      "     ┌─┴─┐└───┘└───┘\n",
      "q_1: ┤ X ├──────────\n",
      "     └───┘          \n"
     ]
    }
   ],
   "source": [
    "circ = QuantumCircuit(2)\n",
    "circ.x(0)\n",
    "circ.cx(0, 1)\n",
    "circ.h(0)\n",
    "circ.x(1)\n",
    "\n",
    "print(\"Before Optimization:\")\n",
    "print(circ)\n",
    "\n",
    "vpm = voqc_pass_manager(post_opts=[\"not_propagation\"])\n",
    "new_circ = vpm.run(circ)\n",
    "\n",
    "print(\"\\nAfter Optimization:\")\n",
    "print(new_circ)"
   ]
  },
  {
   "cell_type": "markdown",
   "metadata": {},
   "source": [
    "### Single-qubit Gate Cancellation\n",
    "\n",
    "*Single-qubit gate cancellation* has the same \"propagate-cancel\" structure as not propagation, except that gates revert back to their original positions if they fail to cancel. In the example below, the upper leftmost T gate commutes through the control of the CNOT, combining with the upper rightmost T gate to become an S gate. The lower T gate commutes through the H; CNOT; H subcircuit to cancel with the Tdg gate."
   ]
  },
  {
   "cell_type": "code",
   "execution_count": 5,
   "metadata": {},
   "outputs": [
    {
     "name": "stdout",
     "output_type": "stream",
     "text": [
      "Before Optimization:\n",
      "     ┌───┐          ┌───┐       \n",
      "q_0: ┤ T ├───────■──┤ T ├───────\n",
      "     ├───┤┌───┐┌─┴─┐├───┤┌─────┐\n",
      "q_1: ┤ T ├┤ H ├┤ X ├┤ H ├┤ Tdg ├\n",
      "     └───┘└───┘└───┘└───┘└─────┘\n",
      "\n",
      "After Optimization:\n",
      "               ┌───┐\n",
      "q_0: ───────■──┤ S ├\n",
      "     ┌───┐┌─┴─┐├───┤\n",
      "q_1: ┤ H ├┤ X ├┤ H ├\n",
      "     └───┘└───┘└───┘\n"
     ]
    }
   ],
   "source": [
    "circ = QuantumCircuit(2)\n",
    "circ.t(0)\n",
    "circ.t(1)\n",
    "circ.h(1)\n",
    "circ.cx(0, 1)\n",
    "circ.h(1)\n",
    "circ.t(0)\n",
    "circ.tdg(1)\n",
    "\n",
    "print(\"Before Optimization:\")\n",
    "print(circ)\n",
    "\n",
    "vpm = voqc_pass_manager(post_opts=[\"cancel_single_qubit_gates\"])\n",
    "new_circ = vpm.run(circ)\n",
    "\n",
    "print(\"\\nAfter Optimization:\")\n",
    "print(new_circ)"
   ]
  },
  {
   "cell_type": "markdown",
   "metadata": {},
   "source": [
    "### Two-qubit Gate Cancellation\n",
    "\n",
    "*Two-qubit gate cancellation* is similar to single-qubit gate cancellation, except that it aims to commute and cancel CNOT gates. In the circuit below, the first CNOT gate commutes through the second, to cancel with the third."
   ]
  },
  {
   "cell_type": "code",
   "execution_count": 6,
   "metadata": {},
   "outputs": [
    {
     "name": "stdout",
     "output_type": "stream",
     "text": [
      "Before Optimization:\n",
      "                    \n",
      "q_0: ──■────■────■──\n",
      "     ┌─┴─┐  │  ┌─┴─┐\n",
      "q_1: ┤ X ├──┼──┤ X ├\n",
      "     └───┘┌─┴─┐└───┘\n",
      "q_2: ─────┤ X ├─────\n",
      "          └───┘     \n",
      "\n",
      "After Optimization:\n",
      "          \n",
      "q_0: ──■──\n",
      "       │  \n",
      "q_1: ──┼──\n",
      "     ┌─┴─┐\n",
      "q_2: ┤ X ├\n",
      "     └───┘\n"
     ]
    }
   ],
   "source": [
    "circ = QuantumCircuit(3)\n",
    "circ.cx(0, 1)\n",
    "circ.cx(0, 2)\n",
    "circ.cx(0, 1)\n",
    "\n",
    "print(\"Before Optimization:\")\n",
    "print(circ)\n",
    "\n",
    "vpm = voqc_pass_manager(post_opts=[\"cancel_two_qubit_gates\"])\n",
    "new_circ = vpm.run(circ)\n",
    "\n",
    "print(\"\\nAfter Optimization:\")\n",
    "print(new_circ)"
   ]
  },
  {
   "cell_type": "markdown",
   "metadata": {},
   "source": [
    "### Rotation Merging\n",
    "\n",
    "*Rotation merging* combines Rz gates that act on the same logical state (see discussion in Sec 4.4 of [our paper](https://arxiv.org/abs/1912.02250)). In the example below, the two Rz(pi/6) gates can be combines into a single Rz(pi/6 + pi/6) = Rz(pi/3) gate."
   ]
  },
  {
   "cell_type": "code",
   "execution_count": 7,
   "metadata": {},
   "outputs": [
    {
     "name": "stdout",
     "output_type": "stream",
     "text": [
      "Before Optimization:\n",
      "                     ┌───┐┌─────────┐\n",
      "q_0: ─────────────■──┤ X ├┤ Rz(π/6) ├\n",
      "     ┌─────────┐┌─┴─┐└─┬─┘└─────────┘\n",
      "q_1: ┤ Rz(π/6) ├┤ X ├──■─────────────\n",
      "     └─────────┘└───┘                \n",
      "\n",
      "After Optimization:\n",
      "                      ┌───┐\n",
      "q_0: ──────────────■──┤ X ├\n",
      "     ┌──────────┐┌─┴─┐└─┬─┘\n",
      "q_1: ┤ Rz(1π/3) ├┤ X ├──■──\n",
      "     └──────────┘└───┘     \n"
     ]
    }
   ],
   "source": [
    "circ = QuantumCircuit(2)\n",
    "circ.rz(pi/6, 1)\n",
    "circ.cx(0, 1)\n",
    "circ.cx(1, 0)\n",
    "circ.rz(pi/6, 0)\n",
    "\n",
    "print(\"Before Optimization:\")\n",
    "print(circ)\n",
    "\n",
    "vpm = voqc_pass_manager(post_opts=[\"merge_rotations\"])\n",
    "new_circ = vpm.run(circ)\n",
    "\n",
    "print(\"\\nAfter Optimization:\")\n",
    "print(new_circ)"
   ]
  },
  {
   "cell_type": "markdown",
   "metadata": {},
   "source": [
    "### Hadamard Reduction\n",
    "\n",
    "*Hadamard reduction* applies a series of identities to reduce the number of H gates in a circuit, for the purpose of making other optimizations (e.g. rotation merging) more effective. In the example below, we replace the first circuit with the second to remove two H gates."
   ]
  },
  {
   "cell_type": "code",
   "execution_count": 8,
   "metadata": {
    "scrolled": true
   },
   "outputs": [
    {
     "name": "stdout",
     "output_type": "stream",
     "text": [
      "Before Optimization:\n",
      "                                \n",
      "q_0: ──────────────■────────────\n",
      "     ┌───┐┌─────┐┌─┴─┐┌───┐┌───┐\n",
      "q_1: ┤ H ├┤ Sdg ├┤ X ├┤ S ├┤ H ├\n",
      "     └───┘└─────┘└───┘└───┘└───┘\n",
      "\n",
      "After Optimization:\n",
      "                      \n",
      "q_0: ───────■─────────\n",
      "     ┌───┐┌─┴─┐┌─────┐\n",
      "q_1: ┤ S ├┤ X ├┤ Sdg ├\n",
      "     └───┘└───┘└─────┘\n"
     ]
    }
   ],
   "source": [
    "circ = QuantumCircuit(2)\n",
    "circ.h(1)\n",
    "circ.sdg(1)\n",
    "circ.cx(0, 1)\n",
    "circ.s(1)\n",
    "circ.h(1)\n",
    "\n",
    "print(\"Before Optimization:\")\n",
    "print(circ)\n",
    "\n",
    "vpm = voqc_pass_manager(post_opts=[\"hadamard_reduction\"])\n",
    "new_circ = vpm.run(circ)\n",
    "\n",
    "print(\"\\nAfter Optimization:\")\n",
    "print(new_circ)"
   ]
  },
  {
   "cell_type": "markdown",
   "metadata": {},
   "source": [
    "### IBM Single-qubit Gate Merging\n",
    "\n",
    "*Single-qubit gate merging* (called *optimize_ibm* in our code) combines adjacent single-qubit gates into a single gate. It will convert the input program to the gate set {U1, U2, U3, CX}."
   ]
  },
  {
   "cell_type": "code",
   "execution_count": 9,
   "metadata": {},
   "outputs": [
    {
     "name": "stdout",
     "output_type": "stream",
     "text": [
      "Before Optimization:\n",
      "   ┌───┐┌───┐┌───┐\n",
      "q: ┤ H ├┤ X ├┤ S ├\n",
      "   └───┘└───┘└───┘\n",
      "\n",
      "After Optimization:\n",
      "   ┌────────────┐\n",
      "q: ┤ U2(π/2,2π) ├\n",
      "   └────────────┘\n"
     ]
    }
   ],
   "source": [
    "circ = QuantumCircuit(1)\n",
    "circ.h(0)\n",
    "circ.x(0)\n",
    "circ.s(0)\n",
    "\n",
    "print(\"Before Optimization:\")\n",
    "print(circ)\n",
    "\n",
    "vpm = voqc_pass_manager(post_opts=[\"optimize_ibm\"])\n",
    "new_circ = vpm.run(circ)\n",
    "\n",
    "print(\"\\nAfter Optimization:\")\n",
    "print(new_circ)"
   ]
  },
  {
   "cell_type": "code",
   "execution_count": null,
   "metadata": {},
   "outputs": [],
   "source": []
  }
 ],
 "metadata": {
  "kernelspec": {
   "display_name": "Python 3",
   "language": "python",
   "name": "python3"
  },
  "language_info": {
   "codemirror_mode": {
    "name": "ipython",
    "version": 3
   },
   "file_extension": ".py",
   "mimetype": "text/x-python",
   "name": "python",
   "nbconvert_exporter": "python",
   "pygments_lexer": "ipython3",
   "version": "3.7.6"
  }
 },
 "nbformat": 4,
 "nbformat_minor": 4
}
